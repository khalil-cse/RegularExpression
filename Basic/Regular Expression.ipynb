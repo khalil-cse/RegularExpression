{
 "cells": [
  {
   "cell_type": "code",
   "execution_count": 2,
   "id": "a7cfee7d",
   "metadata": {},
   "outputs": [],
   "source": [
    "import re\n",
    "pattern=\"Khalil\"\n",
    "result = re.match(pattern, \"Khalil Ahmed Suny\")"
   ]
  },
  {
   "cell_type": "code",
   "execution_count": 12,
   "id": "3522c726",
   "metadata": {},
   "outputs": [
    {
     "name": "stdout",
     "output_type": "stream",
     "text": [
      "Match \n"
     ]
    }
   ],
   "source": [
    "if result:\n",
    "    print(\"Match \")\n",
    "else:\n",
    "    print(\"Not Match\")"
   ]
  },
  {
   "cell_type": "code",
   "execution_count": 2,
   "id": "06d1da95",
   "metadata": {},
   "outputs": [
    {
     "data": {
      "text/plain": [
       "<re.Match object; span=(0, 6), match='Khalil'>"
      ]
     },
     "execution_count": 2,
     "metadata": {},
     "output_type": "execute_result"
    }
   ],
   "source": [
    "result"
   ]
  },
  {
   "cell_type": "markdown",
   "id": "fb03ae48",
   "metadata": {},
   "source": [
    "# Meta Characters"
   ]
  },
  {
   "cell_type": "code",
   "execution_count": 6,
   "id": "6be6e1e7",
   "metadata": {},
   "outputs": [
    {
     "name": "stdout",
     "output_type": "stream",
     "text": [
      "<re.Match object; span=(0, 6), match='khalil'>\n"
     ]
    }
   ],
   "source": [
    "pattern='khal.l'\n",
    "result=re.match(pattern, \"khalil\")\n",
    "print(result)"
   ]
  },
  {
   "cell_type": "code",
   "execution_count": 7,
   "id": "a27ed225",
   "metadata": {},
   "outputs": [
    {
     "name": "stdout",
     "output_type": "stream",
     "text": [
      "Vowel Found\n"
     ]
    }
   ],
   "source": [
    "pattern = \"[aeiou]\"\n",
    "if re.search(pattern, \"Faisal\"):\n",
    "       print(\"Vowel Found\")\n",
    "else:\n",
    "       print(\"Not found\")   "
   ]
  },
  {
   "cell_type": "code",
   "execution_count": 8,
   "id": "8033a8ca",
   "metadata": {},
   "outputs": [
    {
     "name": "stdout",
     "output_type": "stream",
     "text": [
      "Not found\n"
     ]
    }
   ],
   "source": [
    "pattern = \"[aeiou]\"\n",
    "if re.search(pattern, \"XYZ\"):\n",
    "       print(\"Vowel Found\")\n",
    "else:\n",
    "       print(\"Not found\")   "
   ]
  },
  {
   "cell_type": "code",
   "execution_count": 11,
   "id": "967887ac",
   "metadata": {},
   "outputs": [
    {
     "name": "stdout",
     "output_type": "stream",
     "text": [
      "Digit Found\n"
     ]
    }
   ],
   "source": [
    "pattern = \"[0-9]\"\n",
    "if re.search(pattern, \"1234564\"):\n",
    "       print(\"Digit Found\")\n",
    "else:\n",
    "       print(\"Not found\")   "
   ]
  },
  {
   "cell_type": "raw",
   "id": "ca579fca",
   "metadata": {},
   "source": [
    "# Kleenee closer\n",
    "\"*\" : 0 or more\n",
    "\"+\" : 1 or more\n",
    "New (s)* : New, News, Newss, Newssss, Newssssss\n",
    "New (s)+ : News, Newss, Newssss, Newssssss"
   ]
  },
  {
   "cell_type": "markdown",
   "id": "48af0c07",
   "metadata": {},
   "source": [
    "# Example: Star"
   ]
  },
  {
   "cell_type": "code",
   "execution_count": 13,
   "id": "05def8a8",
   "metadata": {},
   "outputs": [
    {
     "name": "stdout",
     "output_type": "stream",
     "text": [
      "Match \n"
     ]
    }
   ],
   "source": [
    "pattern=\"New(s)*\"\n",
    "if re.match(pattern, \"New\"):\n",
    "    print(\"Match \")\n",
    "else:\n",
    "    print(\"Not Match\")"
   ]
  },
  {
   "cell_type": "code",
   "execution_count": 14,
   "id": "fcef50b3",
   "metadata": {},
   "outputs": [
    {
     "name": "stdout",
     "output_type": "stream",
     "text": [
      "Match \n"
     ]
    }
   ],
   "source": [
    "pattern=\"New(s)*\"\n",
    "if re.match(pattern, \"Newss\"):\n",
    "    print(\"Match \")\n",
    "else:\n",
    "    print(\"Not Match\")"
   ]
  },
  {
   "cell_type": "code",
   "execution_count": 15,
   "id": "78ae440b",
   "metadata": {},
   "outputs": [
    {
     "name": "stdout",
     "output_type": "stream",
     "text": [
      "Not Match\n"
     ]
    }
   ],
   "source": [
    "pattern=\"New(s)*\"\n",
    "if re.match(pattern, \"dNew\"):\n",
    "    print(\"Match \")\n",
    "else:\n",
    "    print(\"Not Match\")"
   ]
  },
  {
   "cell_type": "code",
   "execution_count": 16,
   "id": "fdf2eaf6",
   "metadata": {},
   "outputs": [
    {
     "name": "stdout",
     "output_type": "stream",
     "text": [
      "Not Match\n"
     ]
    }
   ],
   "source": [
    "pattern=\"New(s)*e\"\n",
    "if re.match(pattern, \"New\"):\n",
    "    print(\"Match \")\n",
    "else:\n",
    "    print(\"Not Match\")"
   ]
  },
  {
   "cell_type": "code",
   "execution_count": 17,
   "id": "b049bf82",
   "metadata": {},
   "outputs": [
    {
     "name": "stdout",
     "output_type": "stream",
     "text": [
      "Match \n"
     ]
    }
   ],
   "source": [
    "pattern=\"New(s)*e\"\n",
    "if re.match(pattern, \"Newe\"):\n",
    "    print(\"Match \")\n",
    "else:\n",
    "    print(\"Not Match\")"
   ]
  },
  {
   "cell_type": "markdown",
   "id": "78ec1854",
   "metadata": {},
   "source": [
    "# Example: Plus"
   ]
  },
  {
   "cell_type": "code",
   "execution_count": 18,
   "id": "4f38786b",
   "metadata": {},
   "outputs": [
    {
     "name": "stdout",
     "output_type": "stream",
     "text": [
      "Not Match\n"
     ]
    }
   ],
   "source": [
    "pattern=\"New(s)+\"\n",
    "if re.match(pattern, \"New\"):\n",
    "    print(\"Match \")\n",
    "else:\n",
    "    print(\"Not Match\")"
   ]
  },
  {
   "cell_type": "code",
   "execution_count": 19,
   "id": "22856661",
   "metadata": {},
   "outputs": [
    {
     "name": "stdout",
     "output_type": "stream",
     "text": [
      "Match \n"
     ]
    }
   ],
   "source": [
    "pattern=\"New(s)+\"\n",
    "if re.match(pattern, \"News\"):\n",
    "    print(\"Match \")\n",
    "else:\n",
    "    print(\"Not Match\")"
   ]
  },
  {
   "cell_type": "markdown",
   "id": "fb49d173",
   "metadata": {},
   "source": [
    "# Meta Character: | (Pipe Symbol)"
   ]
  },
  {
   "cell_type": "raw",
   "id": "bb5adb28",
   "metadata": {},
   "source": [
    "| : works similiar like logical OR\n",
    "Go (es|ing): Goes, Going\n",
    "S (a|u|i) ng: Sing, Sung, Sang"
   ]
  },
  {
   "cell_type": "markdown",
   "id": "e5d138bd",
   "metadata": {},
   "source": [
    "Two string"
   ]
  },
  {
   "cell_type": "code",
   "execution_count": 20,
   "id": "45fd7d74",
   "metadata": {},
   "outputs": [
    {
     "name": "stdout",
     "output_type": "stream",
     "text": [
      "Match \n"
     ]
    }
   ],
   "source": [
    "pattern=\"Go(es|ing)\"\n",
    "if re.match(pattern, \"Goes\"):\n",
    "    print(\"Match \")\n",
    "else:\n",
    "    print(\"Not Match\")"
   ]
  },
  {
   "cell_type": "code",
   "execution_count": 21,
   "id": "ddbd95a3",
   "metadata": {},
   "outputs": [
    {
     "name": "stdout",
     "output_type": "stream",
     "text": [
      "Match\n"
     ]
    }
   ],
   "source": [
    "pattern=\"Go(es|ing)\"\n",
    "text=\"Going\"\n",
    "if re.match(pattern,text):\n",
    "    print(\"Match\")\n",
    "else:\n",
    "    print(\"Not\")"
   ]
  },
  {
   "cell_type": "markdown",
   "id": "2c5488f2",
   "metadata": {},
   "source": [
    "# Multiple String"
   ]
  },
  {
   "cell_type": "code",
   "execution_count": 3,
   "id": "11be7188",
   "metadata": {},
   "outputs": [
    {
     "name": "stdout",
     "output_type": "stream",
     "text": [
      "Match \n"
     ]
    }
   ],
   "source": [
    "pattern=\"S(a|u|i)ng\"\n",
    "if re.match(pattern, \"Sing\"):\n",
    "    print(\"Match \")\n",
    "else:\n",
    "    print(\"Not Match\")"
   ]
  },
  {
   "cell_type": "code",
   "execution_count": 4,
   "id": "ed91ce39",
   "metadata": {},
   "outputs": [
    {
     "name": "stdout",
     "output_type": "stream",
     "text": [
      "Match \n"
     ]
    }
   ],
   "source": [
    "pattern=\"S(a|u|i)ng\"\n",
    "if re.match(pattern, \"Sung\"):\n",
    "    print(\"Match \")\n",
    "else:\n",
    "    print(\"Not Match\")"
   ]
  },
  {
   "cell_type": "code",
   "execution_count": 7,
   "id": "bd39de2f",
   "metadata": {},
   "outputs": [
    {
     "name": "stdout",
     "output_type": "stream",
     "text": [
      "Not Match\n"
     ]
    }
   ],
   "source": [
    "pattern=\"S(a|u|i)ng\"\n",
    "if re.match(pattern, \"Song\"):\n",
    "    print(\"Match \")\n",
    "else:\n",
    "    print(\"Not Match\")"
   ]
  },
  {
   "cell_type": "code",
   "execution_count": 8,
   "id": "4204b56a",
   "metadata": {},
   "outputs": [
    {
     "name": "stdout",
     "output_type": "stream",
     "text": [
      "Not Match\n"
     ]
    }
   ],
   "source": [
    "pattern=\"S(a|u|i)ng\"\n",
    "if re.match(pattern, \"Sng\"):\n",
    "    print(\"Match \")\n",
    "else:\n",
    "    print(\"Not Match\")"
   ]
  },
  {
   "cell_type": "markdown",
   "id": "5abffe7a",
   "metadata": {},
   "source": [
    "# Multiple String with star"
   ]
  },
  {
   "cell_type": "code",
   "execution_count": 9,
   "id": "a857e48b",
   "metadata": {},
   "outputs": [
    {
     "name": "stdout",
     "output_type": "stream",
     "text": [
      "Match \n"
     ]
    }
   ],
   "source": [
    "pattern=\"S(a|u|i)*ng\"\n",
    "if re.match(pattern, \"Sng\"):\n",
    "    print(\"Match \")\n",
    "else:\n",
    "    print(\"Not Match\")"
   ]
  },
  {
   "cell_type": "markdown",
   "id": "892784d3",
   "metadata": {},
   "source": [
    "# Tokenization"
   ]
  },
  {
   "cell_type": "raw",
   "id": "a61aa6d9",
   "metadata": {},
   "source": [
    "Word\n",
    "Sentence\n",
    "White Space\n",
    "Punctuation"
   ]
  },
  {
   "cell_type": "code",
   "execution_count": 10,
   "id": "1ca88b60",
   "metadata": {},
   "outputs": [],
   "source": [
    "import nltk"
   ]
  },
  {
   "cell_type": "code",
   "execution_count": 12,
   "id": "3cf55f18",
   "metadata": {},
   "outputs": [
    {
     "name": "stderr",
     "output_type": "stream",
     "text": [
      "[nltk_data] Downloading package punkt to\n",
      "[nltk_data]     C:\\Users\\Khalil\\AppData\\Roaming\\nltk_data...\n",
      "[nltk_data]   Unzipping tokenizers\\punkt.zip.\n"
     ]
    },
    {
     "data": {
      "text/plain": [
       "True"
      ]
     },
     "execution_count": 12,
     "metadata": {},
     "output_type": "execute_result"
    }
   ],
   "source": [
    "nltk.download(\"punkt\")"
   ]
  },
  {
   "cell_type": "markdown",
   "id": "2a7ce6ca",
   "metadata": {},
   "source": [
    "# Sentence Tokenization"
   ]
  },
  {
   "cell_type": "code",
   "execution_count": 13,
   "id": "94bef15e",
   "metadata": {},
   "outputs": [],
   "source": [
    "from nltk.tokenize import sent_tokenize"
   ]
  },
  {
   "cell_type": "code",
   "execution_count": 14,
   "id": "0955b4c1",
   "metadata": {},
   "outputs": [],
   "source": [
    "text=\"The diagram explains the way in which bricks are made for the building industry. Overall, there are seven stages in the process, beginning with the digging up of clay and culminating in delivery.To begin, the clay used to make the bricks is dug up from the ground by a large digger. This clay is then placed onto a metal grid, which is used to break up the clay into smaller pieces. A roller assists in this process. Following this, sand and water are added to the clay, and this mixture is turned into bricks by either placing it into a mould or using a wire cutter. Next, these bricks are placed in an oven to dry for 24 – 48 hours. In the subsequent stage, the bricks go through a heating and cooling process. They are heated in a kiln at a moderate and then a high temperature (ranging from 200c to 1300c), followed by a cooling process in a chamber for 2 – 3 days. Finally, the bricks are packed and delivered to their destinations.\""
   ]
  },
  {
   "cell_type": "code",
   "execution_count": 15,
   "id": "9d6c9bcf",
   "metadata": {},
   "outputs": [
    {
     "data": {
      "text/plain": [
       "'The diagram explains the way in which bricks are made for the building industry. Overall, there are seven stages in the process, beginning with the digging up of clay and culminating in delivery.To begin, the clay used to make the bricks is dug up from the ground by a large digger. This clay is then placed onto a metal grid, which is used to break up the clay into smaller pieces. A roller assists in this process. Following this, sand and water are added to the clay, and this mixture is turned into bricks by either placing it into a mould or using a wire cutter. Next, these bricks are placed in an oven to dry for 24 – 48 hours. In the subsequent stage, the bricks go through a heating and cooling process. They are heated in a kiln at a moderate and then a high temperature (ranging from 200c to 1300c), followed by a cooling process in a chamber for 2 – 3 days. Finally, the bricks are packed and delivered to their destinations.'"
      ]
     },
     "execution_count": 15,
     "metadata": {},
     "output_type": "execute_result"
    }
   ],
   "source": [
    "text"
   ]
  },
  {
   "cell_type": "code",
   "execution_count": 16,
   "id": "e4fbb60b",
   "metadata": {},
   "outputs": [
    {
     "data": {
      "text/plain": [
       "['The diagram explains the way in which bricks are made for the building industry.',\n",
       " 'Overall, there are seven stages in the process, beginning with the digging up of clay and culminating in delivery.To begin, the clay used to make the bricks is dug up from the ground by a large digger.',\n",
       " 'This clay is then placed onto a metal grid, which is used to break up the clay into smaller pieces.',\n",
       " 'A roller assists in this process.',\n",
       " 'Following this, sand and water are added to the clay, and this mixture is turned into bricks by either placing it into a mould or using a wire cutter.',\n",
       " 'Next, these bricks are placed in an oven to dry for 24 – 48 hours.',\n",
       " 'In the subsequent stage, the bricks go through a heating and cooling process.',\n",
       " 'They are heated in a kiln at a moderate and then a high temperature (ranging from 200c to 1300c), followed by a cooling process in a chamber for 2 – 3 days.',\n",
       " 'Finally, the bricks are packed and delivered to their destinations.']"
      ]
     },
     "execution_count": 16,
     "metadata": {},
     "output_type": "execute_result"
    }
   ],
   "source": [
    "sent_tokenize(text)"
   ]
  },
  {
   "cell_type": "markdown",
   "id": "40157025",
   "metadata": {},
   "source": [
    "# Word Tokenization"
   ]
  },
  {
   "cell_type": "code",
   "execution_count": 21,
   "id": "32a8bcf2",
   "metadata": {},
   "outputs": [
    {
     "data": {
      "text/plain": [
       "['The',\n",
       " 'diagram',\n",
       " 'explains',\n",
       " 'the',\n",
       " 'way',\n",
       " 'in',\n",
       " 'which',\n",
       " 'bricks',\n",
       " 'are',\n",
       " 'made',\n",
       " 'for',\n",
       " 'the',\n",
       " 'building',\n",
       " 'industry',\n",
       " '.',\n",
       " 'Overall',\n",
       " ',',\n",
       " 'there',\n",
       " 'are',\n",
       " 'seven',\n",
       " 'stages',\n",
       " 'in',\n",
       " 'the',\n",
       " 'process',\n",
       " ',',\n",
       " 'beginning',\n",
       " 'with',\n",
       " 'the',\n",
       " 'digging',\n",
       " 'up',\n",
       " 'of',\n",
       " 'clay',\n",
       " 'and',\n",
       " 'culminating',\n",
       " 'in',\n",
       " 'delivery.To',\n",
       " 'begin',\n",
       " ',',\n",
       " 'the',\n",
       " 'clay',\n",
       " 'used',\n",
       " 'to',\n",
       " 'make',\n",
       " 'the',\n",
       " 'bricks',\n",
       " 'is',\n",
       " 'dug',\n",
       " 'up',\n",
       " 'from',\n",
       " 'the',\n",
       " 'ground',\n",
       " 'by',\n",
       " 'a',\n",
       " 'large',\n",
       " 'digger',\n",
       " '.',\n",
       " 'This',\n",
       " 'clay',\n",
       " 'is',\n",
       " 'then',\n",
       " 'placed',\n",
       " 'onto',\n",
       " 'a',\n",
       " 'metal',\n",
       " 'grid',\n",
       " ',',\n",
       " 'which',\n",
       " 'is',\n",
       " 'used',\n",
       " 'to',\n",
       " 'break',\n",
       " 'up',\n",
       " 'the',\n",
       " 'clay',\n",
       " 'into',\n",
       " 'smaller',\n",
       " 'pieces',\n",
       " '.',\n",
       " 'A',\n",
       " 'roller',\n",
       " 'assists',\n",
       " 'in',\n",
       " 'this',\n",
       " 'process',\n",
       " '.',\n",
       " 'Following',\n",
       " 'this',\n",
       " ',',\n",
       " 'sand',\n",
       " 'and',\n",
       " 'water',\n",
       " 'are',\n",
       " 'added',\n",
       " 'to',\n",
       " 'the',\n",
       " 'clay',\n",
       " ',',\n",
       " 'and',\n",
       " 'this',\n",
       " 'mixture',\n",
       " 'is',\n",
       " 'turned',\n",
       " 'into',\n",
       " 'bricks',\n",
       " 'by',\n",
       " 'either',\n",
       " 'placing',\n",
       " 'it',\n",
       " 'into',\n",
       " 'a',\n",
       " 'mould',\n",
       " 'or',\n",
       " 'using',\n",
       " 'a',\n",
       " 'wire',\n",
       " 'cutter',\n",
       " '.',\n",
       " 'Next',\n",
       " ',',\n",
       " 'these',\n",
       " 'bricks',\n",
       " 'are',\n",
       " 'placed',\n",
       " 'in',\n",
       " 'an',\n",
       " 'oven',\n",
       " 'to',\n",
       " 'dry',\n",
       " 'for',\n",
       " '24',\n",
       " '–',\n",
       " '48',\n",
       " 'hours',\n",
       " '.',\n",
       " 'In',\n",
       " 'the',\n",
       " 'subsequent',\n",
       " 'stage',\n",
       " ',',\n",
       " 'the',\n",
       " 'bricks',\n",
       " 'go',\n",
       " 'through',\n",
       " 'a',\n",
       " 'heating',\n",
       " 'and',\n",
       " 'cooling',\n",
       " 'process',\n",
       " '.',\n",
       " 'They',\n",
       " 'are',\n",
       " 'heated',\n",
       " 'in',\n",
       " 'a',\n",
       " 'kiln',\n",
       " 'at',\n",
       " 'a',\n",
       " 'moderate',\n",
       " 'and',\n",
       " 'then',\n",
       " 'a',\n",
       " 'high',\n",
       " 'temperature',\n",
       " '(',\n",
       " 'ranging',\n",
       " 'from',\n",
       " '200c',\n",
       " 'to',\n",
       " '1300c',\n",
       " ')',\n",
       " ',',\n",
       " 'followed',\n",
       " 'by',\n",
       " 'a',\n",
       " 'cooling',\n",
       " 'process',\n",
       " 'in',\n",
       " 'a',\n",
       " 'chamber',\n",
       " 'for',\n",
       " '2',\n",
       " '–',\n",
       " '3',\n",
       " 'days',\n",
       " '.',\n",
       " 'Finally',\n",
       " ',',\n",
       " 'the',\n",
       " 'bricks',\n",
       " 'are',\n",
       " 'packed',\n",
       " 'and',\n",
       " 'delivered',\n",
       " 'to',\n",
       " 'their',\n",
       " 'destinations',\n",
       " '.']"
      ]
     },
     "execution_count": 21,
     "metadata": {},
     "output_type": "execute_result"
    }
   ],
   "source": [
    "from nltk.tokenize import word_tokenize\n",
    "tokenized_word=word_tokenize(text)\n",
    "tokenized_word"
   ]
  },
  {
   "cell_type": "markdown",
   "id": "508946f1",
   "metadata": {},
   "source": [
    "# White Space Tokenizer"
   ]
  },
  {
   "cell_type": "code",
   "execution_count": 18,
   "id": "93c0d662",
   "metadata": {},
   "outputs": [
    {
     "data": {
      "text/plain": [
       "['The',\n",
       " 'diagram',\n",
       " 'explains',\n",
       " 'the',\n",
       " 'way',\n",
       " 'in',\n",
       " 'which',\n",
       " 'bricks',\n",
       " 'are',\n",
       " 'made',\n",
       " 'for',\n",
       " 'the',\n",
       " 'building',\n",
       " 'industry.',\n",
       " 'Overall,',\n",
       " 'there',\n",
       " 'are',\n",
       " 'seven',\n",
       " 'stages',\n",
       " 'in',\n",
       " 'the',\n",
       " 'process,',\n",
       " 'beginning',\n",
       " 'with',\n",
       " 'the',\n",
       " 'digging',\n",
       " 'up',\n",
       " 'of',\n",
       " 'clay',\n",
       " 'and',\n",
       " 'culminating',\n",
       " 'in',\n",
       " 'delivery.To',\n",
       " 'begin,',\n",
       " 'the',\n",
       " 'clay',\n",
       " 'used',\n",
       " 'to',\n",
       " 'make',\n",
       " 'the',\n",
       " 'bricks',\n",
       " 'is',\n",
       " 'dug',\n",
       " 'up',\n",
       " 'from',\n",
       " 'the',\n",
       " 'ground',\n",
       " 'by',\n",
       " 'a',\n",
       " 'large',\n",
       " 'digger.',\n",
       " 'This',\n",
       " 'clay',\n",
       " 'is',\n",
       " 'then',\n",
       " 'placed',\n",
       " 'onto',\n",
       " 'a',\n",
       " 'metal',\n",
       " 'grid,',\n",
       " 'which',\n",
       " 'is',\n",
       " 'used',\n",
       " 'to',\n",
       " 'break',\n",
       " 'up',\n",
       " 'the',\n",
       " 'clay',\n",
       " 'into',\n",
       " 'smaller',\n",
       " 'pieces.',\n",
       " 'A',\n",
       " 'roller',\n",
       " 'assists',\n",
       " 'in',\n",
       " 'this',\n",
       " 'process.',\n",
       " 'Following',\n",
       " 'this,',\n",
       " 'sand',\n",
       " 'and',\n",
       " 'water',\n",
       " 'are',\n",
       " 'added',\n",
       " 'to',\n",
       " 'the',\n",
       " 'clay,',\n",
       " 'and',\n",
       " 'this',\n",
       " 'mixture',\n",
       " 'is',\n",
       " 'turned',\n",
       " 'into',\n",
       " 'bricks',\n",
       " 'by',\n",
       " 'either',\n",
       " 'placing',\n",
       " 'it',\n",
       " 'into',\n",
       " 'a',\n",
       " 'mould',\n",
       " 'or',\n",
       " 'using',\n",
       " 'a',\n",
       " 'wire',\n",
       " 'cutter.',\n",
       " 'Next,',\n",
       " 'these',\n",
       " 'bricks',\n",
       " 'are',\n",
       " 'placed',\n",
       " 'in',\n",
       " 'an',\n",
       " 'oven',\n",
       " 'to',\n",
       " 'dry',\n",
       " 'for',\n",
       " '24',\n",
       " '–',\n",
       " '48',\n",
       " 'hours.',\n",
       " 'In',\n",
       " 'the',\n",
       " 'subsequent',\n",
       " 'stage,',\n",
       " 'the',\n",
       " 'bricks',\n",
       " 'go',\n",
       " 'through',\n",
       " 'a',\n",
       " 'heating',\n",
       " 'and',\n",
       " 'cooling',\n",
       " 'process.',\n",
       " 'They',\n",
       " 'are',\n",
       " 'heated',\n",
       " 'in',\n",
       " 'a',\n",
       " 'kiln',\n",
       " 'at',\n",
       " 'a',\n",
       " 'moderate',\n",
       " 'and',\n",
       " 'then',\n",
       " 'a',\n",
       " 'high',\n",
       " 'temperature',\n",
       " '(ranging',\n",
       " 'from',\n",
       " '200c',\n",
       " 'to',\n",
       " '1300c),',\n",
       " 'followed',\n",
       " 'by',\n",
       " 'a',\n",
       " 'cooling',\n",
       " 'process',\n",
       " 'in',\n",
       " 'a',\n",
       " 'chamber',\n",
       " 'for',\n",
       " '2',\n",
       " '–',\n",
       " '3',\n",
       " 'days.',\n",
       " 'Finally,',\n",
       " 'the',\n",
       " 'bricks',\n",
       " 'are',\n",
       " 'packed',\n",
       " 'and',\n",
       " 'delivered',\n",
       " 'to',\n",
       " 'their',\n",
       " 'destinations.']"
      ]
     },
     "execution_count": 18,
     "metadata": {},
     "output_type": "execute_result"
    }
   ],
   "source": [
    "from nltk.tokenize import WhitespaceTokenizer\n",
    "WhitespaceTokenizer().tokenize(text)"
   ]
  },
  {
   "cell_type": "markdown",
   "id": "8f7464f3",
   "metadata": {},
   "source": [
    "# Word Punct Tokenize"
   ]
  },
  {
   "cell_type": "code",
   "execution_count": 19,
   "id": "ea82db06",
   "metadata": {},
   "outputs": [
    {
     "data": {
      "text/plain": [
       "['The',\n",
       " 'diagram',\n",
       " 'explains',\n",
       " 'the',\n",
       " 'way',\n",
       " 'in',\n",
       " 'which',\n",
       " 'bricks',\n",
       " 'are',\n",
       " 'made',\n",
       " 'for',\n",
       " 'the',\n",
       " 'building',\n",
       " 'industry',\n",
       " '.',\n",
       " 'Overall',\n",
       " ',',\n",
       " 'there',\n",
       " 'are',\n",
       " 'seven',\n",
       " 'stages',\n",
       " 'in',\n",
       " 'the',\n",
       " 'process',\n",
       " ',',\n",
       " 'beginning',\n",
       " 'with',\n",
       " 'the',\n",
       " 'digging',\n",
       " 'up',\n",
       " 'of',\n",
       " 'clay',\n",
       " 'and',\n",
       " 'culminating',\n",
       " 'in',\n",
       " 'delivery',\n",
       " '.',\n",
       " 'To',\n",
       " 'begin',\n",
       " ',',\n",
       " 'the',\n",
       " 'clay',\n",
       " 'used',\n",
       " 'to',\n",
       " 'make',\n",
       " 'the',\n",
       " 'bricks',\n",
       " 'is',\n",
       " 'dug',\n",
       " 'up',\n",
       " 'from',\n",
       " 'the',\n",
       " 'ground',\n",
       " 'by',\n",
       " 'a',\n",
       " 'large',\n",
       " 'digger',\n",
       " '.',\n",
       " 'This',\n",
       " 'clay',\n",
       " 'is',\n",
       " 'then',\n",
       " 'placed',\n",
       " 'onto',\n",
       " 'a',\n",
       " 'metal',\n",
       " 'grid',\n",
       " ',',\n",
       " 'which',\n",
       " 'is',\n",
       " 'used',\n",
       " 'to',\n",
       " 'break',\n",
       " 'up',\n",
       " 'the',\n",
       " 'clay',\n",
       " 'into',\n",
       " 'smaller',\n",
       " 'pieces',\n",
       " '.',\n",
       " 'A',\n",
       " 'roller',\n",
       " 'assists',\n",
       " 'in',\n",
       " 'this',\n",
       " 'process',\n",
       " '.',\n",
       " 'Following',\n",
       " 'this',\n",
       " ',',\n",
       " 'sand',\n",
       " 'and',\n",
       " 'water',\n",
       " 'are',\n",
       " 'added',\n",
       " 'to',\n",
       " 'the',\n",
       " 'clay',\n",
       " ',',\n",
       " 'and',\n",
       " 'this',\n",
       " 'mixture',\n",
       " 'is',\n",
       " 'turned',\n",
       " 'into',\n",
       " 'bricks',\n",
       " 'by',\n",
       " 'either',\n",
       " 'placing',\n",
       " 'it',\n",
       " 'into',\n",
       " 'a',\n",
       " 'mould',\n",
       " 'or',\n",
       " 'using',\n",
       " 'a',\n",
       " 'wire',\n",
       " 'cutter',\n",
       " '.',\n",
       " 'Next',\n",
       " ',',\n",
       " 'these',\n",
       " 'bricks',\n",
       " 'are',\n",
       " 'placed',\n",
       " 'in',\n",
       " 'an',\n",
       " 'oven',\n",
       " 'to',\n",
       " 'dry',\n",
       " 'for',\n",
       " '24',\n",
       " '–',\n",
       " '48',\n",
       " 'hours',\n",
       " '.',\n",
       " 'In',\n",
       " 'the',\n",
       " 'subsequent',\n",
       " 'stage',\n",
       " ',',\n",
       " 'the',\n",
       " 'bricks',\n",
       " 'go',\n",
       " 'through',\n",
       " 'a',\n",
       " 'heating',\n",
       " 'and',\n",
       " 'cooling',\n",
       " 'process',\n",
       " '.',\n",
       " 'They',\n",
       " 'are',\n",
       " 'heated',\n",
       " 'in',\n",
       " 'a',\n",
       " 'kiln',\n",
       " 'at',\n",
       " 'a',\n",
       " 'moderate',\n",
       " 'and',\n",
       " 'then',\n",
       " 'a',\n",
       " 'high',\n",
       " 'temperature',\n",
       " '(',\n",
       " 'ranging',\n",
       " 'from',\n",
       " '200c',\n",
       " 'to',\n",
       " '1300c',\n",
       " '),',\n",
       " 'followed',\n",
       " 'by',\n",
       " 'a',\n",
       " 'cooling',\n",
       " 'process',\n",
       " 'in',\n",
       " 'a',\n",
       " 'chamber',\n",
       " 'for',\n",
       " '2',\n",
       " '–',\n",
       " '3',\n",
       " 'days',\n",
       " '.',\n",
       " 'Finally',\n",
       " ',',\n",
       " 'the',\n",
       " 'bricks',\n",
       " 'are',\n",
       " 'packed',\n",
       " 'and',\n",
       " 'delivered',\n",
       " 'to',\n",
       " 'their',\n",
       " 'destinations',\n",
       " '.']"
      ]
     },
     "execution_count": 19,
     "metadata": {},
     "output_type": "execute_result"
    }
   ],
   "source": [
    "from nltk.tokenize import wordpunct_tokenize\n",
    "wordpunct_tokenize(text)"
   ]
  },
  {
   "cell_type": "code",
   "execution_count": 54,
   "id": "eec606d9",
   "metadata": {},
   "outputs": [],
   "source": [
    "tex=\"My name is khalilur Rahman .12@\""
   ]
  },
  {
   "cell_type": "code",
   "execution_count": 55,
   "id": "adc8291e",
   "metadata": {},
   "outputs": [
    {
     "data": {
      "text/plain": [
       "['My', 'name', 'is', 'khalilur', 'Rahman', '.12', '@']"
      ]
     },
     "execution_count": 55,
     "metadata": {},
     "output_type": "execute_result"
    }
   ],
   "source": [
    "from nltk.tokenize import word_tokenize\n",
    "tokenized_word=word_tokenize(tex)\n",
    "tokenized_word"
   ]
  },
  {
   "cell_type": "code",
   "execution_count": 56,
   "id": "6a03c51d",
   "metadata": {},
   "outputs": [
    {
     "data": {
      "text/plain": [
       "['My', 'name', 'is', 'khalilur', 'Rahman', '.12@']"
      ]
     },
     "execution_count": 56,
     "metadata": {},
     "output_type": "execute_result"
    }
   ],
   "source": [
    "from nltk.tokenize import WhitespaceTokenizer\n",
    "WhitespaceTokenizer().tokenize(tex)"
   ]
  },
  {
   "cell_type": "code",
   "execution_count": 57,
   "id": "7a817e14",
   "metadata": {},
   "outputs": [
    {
     "data": {
      "text/plain": [
       "['My', 'name', 'is', 'khalilur', 'Rahman', '.', '12', '@']"
      ]
     },
     "execution_count": 57,
     "metadata": {},
     "output_type": "execute_result"
    }
   ],
   "source": [
    "from nltk.tokenize import wordpunct_tokenize\n",
    "wordpunct_tokenize(tex)"
   ]
  },
  {
   "cell_type": "markdown",
   "id": "8fb10e5d",
   "metadata": {},
   "source": [
    "# Frequency Distribution"
   ]
  },
  {
   "cell_type": "code",
   "execution_count": 58,
   "id": "9558770f",
   "metadata": {},
   "outputs": [
    {
     "name": "stdout",
     "output_type": "stream",
     "text": [
      "<FreqDist with 19 samples and 31 outcomes>\n"
     ]
    }
   ],
   "source": [
    "from nltk.probability import FreqDist\n",
    "fdist=FreqDist(tex)\n",
    "print(fdist)"
   ]
  },
  {
   "cell_type": "code",
   "execution_count": 59,
   "id": "18a8d24d",
   "metadata": {},
   "outputs": [
    {
     "data": {
      "text/plain": [
       "[(' ', 5),\n",
       " ('a', 4),\n",
       " ('n', 2),\n",
       " ('m', 2),\n",
       " ('i', 2),\n",
       " ('h', 2),\n",
       " ('l', 2),\n",
       " ('M', 1),\n",
       " ('y', 1),\n",
       " ('e', 1),\n",
       " ('s', 1),\n",
       " ('k', 1),\n",
       " ('u', 1),\n",
       " ('r', 1),\n",
       " ('R', 1),\n",
       " ('.', 1),\n",
       " ('1', 1),\n",
       " ('2', 1),\n",
       " ('@', 1)]"
      ]
     },
     "execution_count": 59,
     "metadata": {},
     "output_type": "execute_result"
    }
   ],
   "source": [
    "fdist.most_common()"
   ]
  },
  {
   "cell_type": "code",
   "execution_count": 60,
   "id": "d9c34ffe",
   "metadata": {},
   "outputs": [
    {
     "data": {
      "text/plain": [
       "[(' ', 5), ('a', 4)]"
      ]
     },
     "execution_count": 60,
     "metadata": {},
     "output_type": "execute_result"
    }
   ],
   "source": [
    "fdist.most_common(2)"
   ]
  },
  {
   "cell_type": "code",
   "execution_count": 61,
   "id": "c0fe1116",
   "metadata": {},
   "outputs": [
    {
     "data": {
      "text/plain": [
       "[(' ', 5), ('a', 4), ('n', 2), ('m', 2), ('i', 2)]"
      ]
     },
     "execution_count": 61,
     "metadata": {},
     "output_type": "execute_result"
    }
   ],
   "source": [
    "fdist.most_common(5)"
   ]
  },
  {
   "cell_type": "markdown",
   "id": "8d7798b2",
   "metadata": {},
   "source": [
    "# Plot Frequency Distribution"
   ]
  },
  {
   "cell_type": "code",
   "execution_count": 62,
   "id": "adcf6888",
   "metadata": {},
   "outputs": [],
   "source": [
    "import matplotlib.pyplot as plt"
   ]
  },
  {
   "cell_type": "code",
   "execution_count": 65,
   "id": "465db93c",
   "metadata": {},
   "outputs": [
    {
     "data": {
      "image/png": "[encoded data removed]",
      "text/plain": [
       "<Figure size 640x480 with 1 Axes>"
      ]
     },
     "metadata": {},
     "output_type": "display_data"
    }
   ],
   "source": [
    "fdist.plot(8,cumulative=False)\n",
    "plt.show()"
   ]
  },
  {
   "cell_type": "code",
   "execution_count": 66,
   "id": "3626ad80",
   "metadata": {},
   "outputs": [
    {
     "data": {
      "image/png": "[encoded data removed]",
      "text/plain": [
       "<Figure size 640x480 with 1 Axes>"
      ]
     },
     "metadata": {},
     "output_type": "display_data"
    }
   ],
   "source": [
    "fdist.plot(8,cumulative=True)\n",
    "plt.show()"
   ]
  },
  {
   "cell_type": "code",
   "execution_count": null,
   "id": "4b1da873",
   "metadata": {},
   "outputs": [],
   "source": []
  }
 ],
 "metadata": {
  "kernelspec": {
   "display_name": "Python 3 (ipykernel)",
   "language": "python",
   "name": "python3"
  },
  "language_info": {
   "codemirror_mode": {
    "name": "ipython",
    "version": 3
   },
   "file_extension": ".py",
   "mimetype": "text/x-python",
   "name": "python",
   "nbconvert_exporter": "python",
   "pygments_lexer": "ipython3",
   "version": "3.11.4"
  }
 },
 "nbformat": 4,
 "nbformat_minor": 5
}
